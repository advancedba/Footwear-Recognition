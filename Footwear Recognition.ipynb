{
 "cells": [
  {
   "cell_type": "markdown",
   "metadata": {},
   "source": [
    "#  Footwear Image Prediction"
   ]
  },
  {
   "cell_type": "markdown",
   "metadata": {},
   "source": [
    "### By: Jun Song, Qin Che, Peiyu Li, Zimei Xu"
   ]
  },
  {
   "cell_type": "code",
   "execution_count": 1,
   "metadata": {
    "collapsed": true
   },
   "outputs": [],
   "source": [
    "import numpy as np\n",
    "import pandas as pd\n",
    "import urllib.request\n",
    "import requests\n",
    "import pydot_ng as pydot\n",
    "import matplotlib.pyplot as plt\n",
    "import os.path\n",
    "from lxml import html\n",
    "from lxml import etree\n",
    "from scipy import misc\n",
    "from sklearn import svm\n",
    "from sklearn import tree\n",
    "from sklearn.model_selection import train_test_split\n",
    "from sklearn.model_selection import cross_val_score\n",
    "from IPython.display import Image\n",
    "from IPython.display import IFrame\n",
    "from ipywidgets import interact\n",
    "np.set_printoptions(precision=1)\n",
    "%matplotlib inline"
   ]
  },
  {
   "cell_type": "markdown",
   "metadata": {},
   "source": [
    "##  Part 1: Data Collection"
   ]
  },
  {
   "cell_type": "markdown",
   "metadata": {},
   "source": [
    "###  1.  Get category information and corresponding urls"
   ]
  },
  {
   "cell_type": "code",
   "execution_count": 2,
   "metadata": {
    "collapsed": false
   },
   "outputs": [],
   "source": [
    "def get_categories(url):\n",
    "    main_page = requests.get(url)\n",
    "    ptree = html.fromstring(main_page.content)\n",
    "    #get the div block for category information\n",
    "    target_div = ptree.xpath('.//div[@id=\"FCTzc2Select\"]')  \n",
    "    \n",
    "    target_content = np.array([i.text_content().split(sep='\\n') for i in target_div[0]])\n",
    "    #get name of categories\n",
    "    target_names = target_content[:,1]\n",
    "    #get the number of products in each category\n",
    "    target_cnts = np.array([int(i[1:-1]) for i in target_content[:,2]])\n",
    "    #get the relative url for the first page of each category\n",
    "    target_urls = target_div[0].xpath('.//a/@href')\n",
    "    #convert relative urls to absolute urls\n",
    "    target_urls = ['http://www.6pm.com' + i for i in target_urls]\n",
    "    \n",
    "    return target_names, target_cnts, target_urls\n",
    "\n",
    "def get_page_urls(url):\n",
    "    c_page = requests.get(url)\n",
    "    ptree = html.fromstring(c_page.content)\n",
    "    #get the div block for upper page navigation\n",
    "    nav_div = ptree.xpath('.//div[@class=\"pagination\"]')\n",
    "    #get the relative urls for all the pages other than the first page\n",
    "    target_urls = nav_div[0].xpath('.//a/@href')\n",
    "    #convert relative urls to absolute urls\n",
    "    target_urls = ['http://www.6pm.com' + p for p in target_urls]\n",
    "    \n",
    "    return target_urls\n",
    "\n",
    "c_names, c_cnts, c_urls = get_categories('http://www.6pm.com/women-shoes#!/shoes/CK_XAeICAQE.zso')\n",
    "\n",
    "#use category that contains at least the given number of products, i.e. 200\n",
    "c_num = len(c_cnts[c_cnts >= 200])\n",
    "\n",
    "#get urls for the target pages that contain the needed images\n",
    "urls = []\n",
    "for i in range(c_num):\n",
    "    p_urls = get_page_urls(c_urls[i])\n",
    "    #for the category contains more than 3000 products, download the first 4 pages, otherwise the first 2 pages\n",
    "    if c_cnts[i] > 3000:\n",
    "        p_num = 4\n",
    "    else:\n",
    "        p_num = 2\n",
    "    tmp = [c_urls[i]] + p_urls[:(p_num-1)]\n",
    "    urls.append(tmp)"
   ]
  },
  {
   "cell_type": "markdown",
   "metadata": {},
   "source": [
    "### 2.  Download images under each category and store their labels"
   ]
  },
  {
   "cell_type": "code",
   "execution_count": 3,
   "metadata": {
    "collapsed": true
   },
   "outputs": [],
   "source": [
    "labels = []\n",
    "img_name = []\n",
    "for c in range(c_num):\n",
    "    for p in range(len(urls[c])):\n",
    "        page = requests.get(urls[c][p])\n",
    "        ptree = html.fromstring(page.content)\n",
    "        #get the urls for target images\n",
    "        image_urls = ptree.xpath('.//img[@class=\"productImg\"]/@src')\n",
    "        \n",
    "        for i in range(len(image_urls)):\n",
    "            tmp = c_names[c]+str(p*100+i)+'.jpg'\n",
    "            #get the name of the image file\n",
    "            img_name.append(tmp)\n",
    "            #download image if it hasn't been downloaded yet\n",
    "            if(not(os.path.isfile(tmp))):\n",
    "                urllib.request.urlretrieve(image_urls[i], tmp)\n",
    "            #get the category for the corresponding image\n",
    "            labels.append(c_names[c])"
   ]
  },
  {
   "cell_type": "markdown",
   "metadata": {},
   "source": [
    "## Part 2: Data processing "
   ]
  },
  {
   "cell_type": "markdown",
   "metadata": {},
   "source": [
    "###  1. Reshape images as standardized array format"
   ]
  },
  {
   "cell_type": "code",
   "execution_count": 4,
   "metadata": {
    "collapsed": false
   },
   "outputs": [
    {
     "data": {
      "text/plain": [
       "(3000, 100980)"
      ]
     },
     "execution_count": 4,
     "metadata": {},
     "output_type": "execute_result"
    }
   ],
   "source": [
    "#convert images into arries\n",
    "pic_array = np.array([misc.imread(i,mode='RGB') for i in img_name])\n",
    "\n",
    "#get the dimensions from the shape of the image array\n",
    "rows,cols,depth=pic_array[0].shape\n",
    "\n",
    "#flatten each pixel and RGB value\n",
    "pic_array2 = []\n",
    "for i in range(pic_array.shape[0]):\n",
    "    pic_array2.append(pic_array[i].flatten())\n",
    "np.array(pic_array2).shape"
   ]
  },
  {
   "cell_type": "markdown",
   "metadata": {},
   "source": [
    "### 2. Split training and testing dataset"
   ]
  },
  {
   "cell_type": "code",
   "execution_count": 5,
   "metadata": {
    "collapsed": false
   },
   "outputs": [
    {
     "name": "stdout",
     "output_type": "stream",
     "text": [
      "The shape of the training data is: x - (2010, 100980), y - (2010,)\n",
      "The shape of the test data is: x - (990, 100980), y - (990,)\n"
     ]
    }
   ],
   "source": [
    "#model training - split data\n",
    "x_train, x_test, y_train, y_test = train_test_split(np.array(pic_array2), np.array(labels), test_size=.33, random_state=12)\n",
    "print('The shape of the training data is: x - %s, y - %s'%(str(x_train.shape),str(y_train.shape)))\n",
    "print('The shape of the test data is: x - %s, y - %s'%(str(x_test.shape),str(y_test.shape)))"
   ]
  },
  {
   "cell_type": "markdown",
   "metadata": {},
   "source": [
    "## Part 3: Fit Model and Validate"
   ]
  },
  {
   "cell_type": "markdown",
   "metadata": {},
   "source": [
    "## A. Classification Tree"
   ]
  },
  {
   "cell_type": "markdown",
   "metadata": {},
   "source": [
    "### 1. Fit tree"
   ]
  },
  {
   "cell_type": "code",
   "execution_count": 6,
   "metadata": {
    "collapsed": false
   },
   "outputs": [],
   "source": [
    "clf_tree = tree.DecisionTreeClassifier(max_depth = 10)\n",
    "clf_tree = clf_tree.fit(x_train,y_train)"
   ]
  },
  {
   "cell_type": "markdown",
   "metadata": {},
   "source": [
    "### 2. Plot the tree"
   ]
  },
  {
   "cell_type": "code",
   "execution_count": 7,
   "metadata": {
    "collapsed": false
   },
   "outputs": [
    {
     "name": "stdout",
     "output_type": "stream",
     "text": [
      "In the tree shown below, each color represent one single category. The deeper the color is, the lower the gini index is, that is, the better the conditions along the branch.\n"
     ]
    },
    {
     "data": {
      "text/html": [
       "\n",
       "        <iframe\n",
       "            width=\"900\"\n",
       "            height=\"400\"\n",
       "            src=\"tree_test.pdf\"\n",
       "            frameborder=\"0\"\n",
       "            allowfullscreen\n",
       "        ></iframe>\n",
       "        "
      ],
      "text/plain": [
       "<IPython.lib.display.IFrame at 0x12cb2d1d0>"
      ]
     },
     "execution_count": 7,
     "metadata": {},
     "output_type": "execute_result"
    }
   ],
   "source": [
    "#prepare feature names\n",
    "f_names = []\n",
    "for i in range(rows):\n",
    "    for j in range(cols):\n",
    "        for k in ['R','G','B']:\n",
    "            f_names.append('Pixel(x=' + str(i) + ', y=' + str(j) + '), ' + k)\n",
    "    \n",
    "#create .dot file\n",
    "with open(\"tree_test.dot\", 'w') as f:\n",
    "    tree.export_graphviz(clf_tree, out_file=f, filled=True, label='all', feature_names=f_names, class_names=c_names[:c_num])\n",
    "\n",
    "#convert the tree into pdf format\n",
    "pydot.graph_from_dot_file('tree_test.dot').write_pdf('tree_test.pdf')\n",
    "\n",
    "#plot the tree\n",
    "print('In the tree shown below, each color represent one single category. The deeper the color is, \\\n",
    "the lower the gini index is, that is, the better the conditions along the branch.')\n",
    "IFrame('tree_test.pdf', width=900, height=400) "
   ]
  },
  {
   "cell_type": "markdown",
   "metadata": {},
   "source": [
    "### 3. Outcome visualization - with test data"
   ]
  },
  {
   "cell_type": "markdown",
   "metadata": {},
   "source": [
    "#### 3.1 Predict category"
   ]
  },
  {
   "cell_type": "code",
   "execution_count": 8,
   "metadata": {
    "collapsed": true
   },
   "outputs": [],
   "source": [
    "pred_tree_test = clf_tree.predict(x_test)"
   ]
  },
  {
   "cell_type": "markdown",
   "metadata": {},
   "source": [
    "#### 3.2 Visualize the comparison between true value and prediction "
   ]
  },
  {
   "cell_type": "code",
   "execution_count": 9,
   "metadata": {
    "collapsed": false
   },
   "outputs": [
    {
     "data": {
      "text/plain": [
       "<function __main__.display_ctg>"
      ]
     },
     "execution_count": 9,
     "metadata": {},
     "output_type": "execute_result"
    },
    {
     "data": {
      "image/png": "[encoded data removed]",
      "text/plain": [
       "<matplotlib.figure.Figure at 0x12d4dbe10>"
      ]
     },
     "metadata": {},
     "output_type": "display_data"
    }
   ],
   "source": [
    "from ipywidgets import interact\n",
    "def display_ctg(i):\n",
    "    plt.imshow(x_test[i].reshape(rows,cols,depth))\n",
    "    plt.gca().set_title('True category:' + str(y_test[i])+'\\nPrediction:' + str(pred_tree_test[i]))\n",
    "    \n",
    "interact(display_ctg, i=(0,990))"
   ]
  },
  {
   "cell_type": "markdown",
   "metadata": {},
   "source": [
    "### 4. Outcome validate - with test data"
   ]
  },
  {
   "cell_type": "markdown",
   "metadata": {},
   "source": [
    "#### 4.1 Cross Validation Score"
   ]
  },
  {
   "cell_type": "code",
   "execution_count": 10,
   "metadata": {
    "collapsed": false
   },
   "outputs": [
    {
     "name": "stdout",
     "output_type": "stream",
     "text": [
      "[ 0.5  0.5  0.5  0.5  0.6]\n",
      "Accuracy for testing data: 0.52 +/- 0.03\n"
     ]
    }
   ],
   "source": [
    "scores_tree_test = cross_val_score(clf_tree, x_test, y_test, cv=5)\n",
    "print(scores_tree_test)\n",
    "print('Accuracy for testing data: %.2f +/- %.2f'%(scores_tree_test.mean(),scores_tree_test.std()))"
   ]
  },
  {
   "cell_type": "markdown",
   "metadata": {},
   "source": [
    "####  4.2 Overall Accuracy"
   ]
  },
  {
   "cell_type": "markdown",
   "metadata": {},
   "source": [
    " build a dataframe with true category name - val, predict catetory name - predict, and if predict correctly - correct  \n",
    " accuracy = num of correct predictions / total predictions"
   ]
  },
  {
   "cell_type": "code",
   "execution_count": 11,
   "metadata": {
    "collapsed": false
   },
   "outputs": [
    {
     "name": "stdout",
     "output_type": "stream",
     "text": [
      "Accuracy for testing data: 0.596\n"
     ]
    },
    {
     "data": {
      "text/html": [
       "<div>\n",
       "<table border=\"1\" class=\"dataframe\">\n",
       "  <thead>\n",
       "    <tr style=\"text-align: right;\">\n",
       "      <th></th>\n",
       "      <th>val</th>\n",
       "      <th>predict</th>\n",
       "      <th>correct</th>\n",
       "    </tr>\n",
       "  </thead>\n",
       "  <tbody>\n",
       "    <tr>\n",
       "      <th>0</th>\n",
       "      <td>Sandals</td>\n",
       "      <td>Sandals</td>\n",
       "      <td>1</td>\n",
       "    </tr>\n",
       "    <tr>\n",
       "      <th>1</th>\n",
       "      <td>Oxfords</td>\n",
       "      <td>Sneakers &amp; Athletic Shoes</td>\n",
       "      <td>0</td>\n",
       "    </tr>\n",
       "    <tr>\n",
       "      <th>2</th>\n",
       "      <td>Boots</td>\n",
       "      <td>Boots</td>\n",
       "      <td>1</td>\n",
       "    </tr>\n",
       "    <tr>\n",
       "      <th>3</th>\n",
       "      <td>Oxfords</td>\n",
       "      <td>Oxfords</td>\n",
       "      <td>1</td>\n",
       "    </tr>\n",
       "    <tr>\n",
       "      <th>4</th>\n",
       "      <td>Heels</td>\n",
       "      <td>Clogs &amp; Mules</td>\n",
       "      <td>0</td>\n",
       "    </tr>\n",
       "  </tbody>\n",
       "</table>\n",
       "</div>"
      ],
      "text/plain": [
       "       val                    predict  correct\n",
       "0  Sandals                    Sandals        1\n",
       "1  Oxfords  Sneakers & Athletic Shoes        0\n",
       "2    Boots                      Boots        1\n",
       "3  Oxfords                    Oxfords        1\n",
       "4    Heels              Clogs & Mules        0"
      ]
     },
     "execution_count": 11,
     "metadata": {},
     "output_type": "execute_result"
    }
   ],
   "source": [
    "df_tree_test = pd.DataFrame(data={'val':y_test, 'predict':pred_tree_test}, columns=['val', 'predict'])\n",
    "df_tree_test['correct'] = (df_tree_test.val==df_tree_test.predict).astype(int)\n",
    "accuracy_tree_test = sum(df_tree_test.correct)/df_tree_test.shape[0]\n",
    "print('Accuracy for testing data: %.3f'%accuracy_tree_test)\n",
    "df_tree_test.head()"
   ]
  },
  {
   "cell_type": "markdown",
   "metadata": {},
   "source": [
    "### 5. Outcome visualization - with full data"
   ]
  },
  {
   "cell_type": "markdown",
   "metadata": {},
   "source": [
    "#### 5.1 Predict category"
   ]
  },
  {
   "cell_type": "code",
   "execution_count": 12,
   "metadata": {
    "collapsed": true
   },
   "outputs": [],
   "source": [
    "pred_tree_all = clf_tree.predict(np.array(pic_array2))"
   ]
  },
  {
   "cell_type": "markdown",
   "metadata": {},
   "source": [
    "#### 5.2 Visualize the comparison between true value and prediction "
   ]
  },
  {
   "cell_type": "code",
   "execution_count": 13,
   "metadata": {
    "collapsed": false
   },
   "outputs": [
    {
     "data": {
      "text/plain": [
       "<function __main__.display_shoe>"
      ]
     },
     "execution_count": 13,
     "metadata": {},
     "output_type": "execute_result"
    },
    {
     "data": {
      "image/png": "[encoded data removed]",
      "text/plain": [
       "<matplotlib.figure.Figure at 0x12d4c1128>"
      ]
     },
     "metadata": {},
     "output_type": "display_data"
    }
   ],
   "source": [
    "def display_shoe(i):\n",
    "    plt.imshow(pic_array[i], interpolation='nearest')\n",
    "    plt.gca().set_title('True category:' + labels[i] + '\\nPrediction:' + pred_tree_all[i])\n",
    "\n",
    "interact(display_shoe, i=(0,(pic_array.shape[0]-1)))"
   ]
  },
  {
   "cell_type": "markdown",
   "metadata": {},
   "source": [
    "### 6. Outcome validate - with full data"
   ]
  },
  {
   "cell_type": "markdown",
   "metadata": {},
   "source": [
    "#### 6.1 Cross Validation Score"
   ]
  },
  {
   "cell_type": "code",
   "execution_count": 14,
   "metadata": {
    "collapsed": false
   },
   "outputs": [
    {
     "name": "stdout",
     "output_type": "stream",
     "text": [
      "[ 0.5  0.5  0.6  0.5  0.6]\n",
      "Accuracy for overall dataset: 0.53 +/- 0.04\n"
     ]
    }
   ],
   "source": [
    "scores_tree_all = cross_val_score(clf_tree, np.array(pic_array2), np.array(labels), cv=5)\n",
    "print(scores_tree_all)\n",
    "print('Accuracy for overall dataset: %.2f +/- %.2f'%(scores_tree_all.mean(),scores_tree_all.std()))"
   ]
  },
  {
   "cell_type": "markdown",
   "metadata": {},
   "source": [
    "#### 6.2 Overall Accuracy"
   ]
  },
  {
   "cell_type": "markdown",
   "metadata": {},
   "source": [
    " build a dataframe with true category name - val, predict catetory name - predict, and if predict correctly - correct  \n",
    " accuracy = num of correct predictions / total predictions"
   ]
  },
  {
   "cell_type": "code",
   "execution_count": 15,
   "metadata": {
    "collapsed": false,
    "scrolled": true
   },
   "outputs": [
    {
     "name": "stdout",
     "output_type": "stream",
     "text": [
      "Accuracy for overall dataset: 0.770\n"
     ]
    },
    {
     "data": {
      "text/html": [
       "<div>\n",
       "<table border=\"1\" class=\"dataframe\">\n",
       "  <thead>\n",
       "    <tr style=\"text-align: right;\">\n",
       "      <th></th>\n",
       "      <th>val</th>\n",
       "      <th>predict</th>\n",
       "      <th>correct</th>\n",
       "    </tr>\n",
       "  </thead>\n",
       "  <tbody>\n",
       "    <tr>\n",
       "      <th>0</th>\n",
       "      <td>Sandals</td>\n",
       "      <td>Slippers</td>\n",
       "      <td>0</td>\n",
       "    </tr>\n",
       "    <tr>\n",
       "      <th>1</th>\n",
       "      <td>Sandals</td>\n",
       "      <td>Sandals</td>\n",
       "      <td>1</td>\n",
       "    </tr>\n",
       "    <tr>\n",
       "      <th>2</th>\n",
       "      <td>Sandals</td>\n",
       "      <td>Sandals</td>\n",
       "      <td>1</td>\n",
       "    </tr>\n",
       "    <tr>\n",
       "      <th>3</th>\n",
       "      <td>Sandals</td>\n",
       "      <td>Sandals</td>\n",
       "      <td>1</td>\n",
       "    </tr>\n",
       "    <tr>\n",
       "      <th>4</th>\n",
       "      <td>Sandals</td>\n",
       "      <td>Sandals</td>\n",
       "      <td>1</td>\n",
       "    </tr>\n",
       "  </tbody>\n",
       "</table>\n",
       "</div>"
      ],
      "text/plain": [
       "       val   predict  correct\n",
       "0  Sandals  Slippers        0\n",
       "1  Sandals   Sandals        1\n",
       "2  Sandals   Sandals        1\n",
       "3  Sandals   Sandals        1\n",
       "4  Sandals   Sandals        1"
      ]
     },
     "execution_count": 15,
     "metadata": {},
     "output_type": "execute_result"
    }
   ],
   "source": [
    "df_tree_all = pd.DataFrame(data={'val':labels, 'predict':pred_tree_all}, columns=['val', 'predict'])\n",
    "df_tree_all['correct'] = (df_tree_all.val==df_tree_all.predict).astype(int)\n",
    "accuracy_tree_all = sum(df_tree_all.correct)/df_tree_all.shape[0]\n",
    "print('Accuracy for overall dataset: %.3f'%accuracy_tree_all)\n",
    "df_tree_all.head()"
   ]
  },
  {
   "cell_type": "markdown",
   "metadata": {},
   "source": [
    "## B. Support Vector Machine (SVM)"
   ]
  },
  {
   "cell_type": "markdown",
   "metadata": {},
   "source": [
    "### 1. Fit SVM"
   ]
  },
  {
   "cell_type": "code",
   "execution_count": 16,
   "metadata": {
    "collapsed": false
   },
   "outputs": [],
   "source": [
    "clf_svm = svm.SVC(kernel='linear')\n",
    "clf_svm = clf_svm.fit(x_train, y_train)"
   ]
  },
  {
   "cell_type": "markdown",
   "metadata": {},
   "source": [
    "### 2. Outcome visualization - with test data"
   ]
  },
  {
   "cell_type": "markdown",
   "metadata": {},
   "source": [
    "#### 2.1 Predict category"
   ]
  },
  {
   "cell_type": "code",
   "execution_count": 17,
   "metadata": {
    "collapsed": false
   },
   "outputs": [],
   "source": [
    "pred_svm_test = clf_svm.predict(x_test)"
   ]
  },
  {
   "cell_type": "markdown",
   "metadata": {},
   "source": [
    "#### 2.2 Visualize the comparison between true value and prediction "
   ]
  },
  {
   "cell_type": "code",
   "execution_count": 18,
   "metadata": {
    "collapsed": false
   },
   "outputs": [
    {
     "data": {
      "text/plain": [
       "<function __main__.display_shoe>"
      ]
     },
     "execution_count": 18,
     "metadata": {},
     "output_type": "execute_result"
    },
    {
     "data": {
      "image/png": "[encoded data removed]",
      "text/plain": [
       "<matplotlib.figure.Figure at 0x135719d68>"
      ]
     },
     "metadata": {},
     "output_type": "display_data"
    }
   ],
   "source": [
    "def display_shoe(i):\n",
    "    plt.imshow(x_test[i].reshape(rows,cols,depth), interpolation='nearest')\n",
    "    plt.gca().set_title('True category:' + y_test[i] + '\\nPrediction:' + pred_svm_test[i])\n",
    "\n",
    "interact(display_shoe, i=(0,(len(y_test)-1)))"
   ]
  },
  {
   "cell_type": "markdown",
   "metadata": {},
   "source": [
    "### 3. Outcome validate - with test data"
   ]
  },
  {
   "cell_type": "markdown",
   "metadata": {},
   "source": [
    "#### 3.1 Cross Validation Score"
   ]
  },
  {
   "cell_type": "code",
   "execution_count": 19,
   "metadata": {
    "collapsed": false
   },
   "outputs": [
    {
     "name": "stdout",
     "output_type": "stream",
     "text": [
      "[ 0.7  0.7  0.7  0.7  0.7]\n",
      "Accuracy for testing data: 0.71 +/- 0.02\n"
     ]
    }
   ],
   "source": [
    "scores_svm_test = cross_val_score(clf_svm, x_test, y_test, cv=5)\n",
    "print(scores_svm_test)\n",
    "print('Accuracy for testing data: %.2f +/- %.2f'%(scores_svm_test.mean(),scores_svm_test.std()))"
   ]
  },
  {
   "cell_type": "markdown",
   "metadata": {},
   "source": [
    "#### 3.2 Overall Accuracy"
   ]
  },
  {
   "cell_type": "markdown",
   "metadata": {},
   "source": [
    " build a dataframe with true category name - val, predict catetory name - predict, and if predict correctly - correct  \n",
    " accuracy = num of correct predictions / total predictions"
   ]
  },
  {
   "cell_type": "code",
   "execution_count": 20,
   "metadata": {
    "collapsed": false
   },
   "outputs": [
    {
     "name": "stdout",
     "output_type": "stream",
     "text": [
      "Accuracy for testing data: 0.738\n"
     ]
    },
    {
     "data": {
      "text/html": [
       "<div>\n",
       "<table border=\"1\" class=\"dataframe\">\n",
       "  <thead>\n",
       "    <tr style=\"text-align: right;\">\n",
       "      <th></th>\n",
       "      <th>val</th>\n",
       "      <th>predict</th>\n",
       "      <th>correct</th>\n",
       "    </tr>\n",
       "  </thead>\n",
       "  <tbody>\n",
       "    <tr>\n",
       "      <th>0</th>\n",
       "      <td>Sandals</td>\n",
       "      <td>Slippers</td>\n",
       "      <td>0</td>\n",
       "    </tr>\n",
       "    <tr>\n",
       "      <th>1</th>\n",
       "      <td>Oxfords</td>\n",
       "      <td>Slippers</td>\n",
       "      <td>0</td>\n",
       "    </tr>\n",
       "    <tr>\n",
       "      <th>2</th>\n",
       "      <td>Boots</td>\n",
       "      <td>Boots</td>\n",
       "      <td>1</td>\n",
       "    </tr>\n",
       "    <tr>\n",
       "      <th>3</th>\n",
       "      <td>Oxfords</td>\n",
       "      <td>Oxfords</td>\n",
       "      <td>1</td>\n",
       "    </tr>\n",
       "    <tr>\n",
       "      <th>4</th>\n",
       "      <td>Heels</td>\n",
       "      <td>Heels</td>\n",
       "      <td>1</td>\n",
       "    </tr>\n",
       "  </tbody>\n",
       "</table>\n",
       "</div>"
      ],
      "text/plain": [
       "       val   predict  correct\n",
       "0  Sandals  Slippers        0\n",
       "1  Oxfords  Slippers        0\n",
       "2    Boots     Boots        1\n",
       "3  Oxfords   Oxfords        1\n",
       "4    Heels     Heels        1"
      ]
     },
     "execution_count": 20,
     "metadata": {},
     "output_type": "execute_result"
    }
   ],
   "source": [
    "df_svm_test = pd.DataFrame(data={'val':y_test, 'predict':pred_svm_test}, columns=['val', 'predict'])\n",
    "df_svm_test['correct'] = (df_svm_test.val==df_svm_test.predict).astype(int)\n",
    "accuracy_svm_test = sum(df_svm_test.correct)/df_svm_test.shape[0]\n",
    "print('Accuracy for testing data: %.3f'%accuracy_svm_test)\n",
    "df_svm_test.head()"
   ]
  },
  {
   "cell_type": "markdown",
   "metadata": {},
   "source": [
    "### 4. Outcome visualization - with full data"
   ]
  },
  {
   "cell_type": "markdown",
   "metadata": {},
   "source": [
    "#### 4.1 Predict category"
   ]
  },
  {
   "cell_type": "code",
   "execution_count": 21,
   "metadata": {
    "collapsed": true
   },
   "outputs": [],
   "source": [
    "prediction_svm_all = clf_svm.predict(np.array(pic_array2))"
   ]
  },
  {
   "cell_type": "markdown",
   "metadata": {},
   "source": [
    "#### 4.2 Visualize the comparison between true value and prediction "
   ]
  },
  {
   "cell_type": "code",
   "execution_count": 22,
   "metadata": {
    "collapsed": false,
    "scrolled": false
   },
   "outputs": [
    {
     "data": {
      "text/plain": [
       "<function __main__.display_shoe>"
      ]
     },
     "execution_count": 22,
     "metadata": {},
     "output_type": "execute_result"
    },
    {
     "data": {
      "image/png": "[encoded data removed]",
      "text/plain": [
       "<matplotlib.figure.Figure at 0x1357e9080>"
      ]
     },
     "metadata": {},
     "output_type": "display_data"
    }
   ],
   "source": [
    "def display_shoe(i):\n",
    "    plt.imshow(pic_array[i], interpolation='nearest')\n",
    "    plt.gca().set_title('True category:' + labels[i] + '\\nPrediction:' + prediction_svm_all[i])\n",
    "\n",
    "interact(display_shoe, i=(0,(pic_array.shape[0]-1)))"
   ]
  },
  {
   "cell_type": "markdown",
   "metadata": {},
   "source": [
    "### 5. Outcome validate - with full data"
   ]
  },
  {
   "cell_type": "markdown",
   "metadata": {},
   "source": [
    "#### 5.1 Cross Validation Score"
   ]
  },
  {
   "cell_type": "code",
   "execution_count": 23,
   "metadata": {
    "collapsed": false
   },
   "outputs": [
    {
     "name": "stdout",
     "output_type": "stream",
     "text": [
      "[ 0.6  0.7  0.7  0.7  0.7]\n",
      "Accuracy for overall dataset: 0.69 +/- 0.05\n"
     ]
    }
   ],
   "source": [
    "scores_svm_all = cross_val_score(clf_svm, np.array(pic_array2), np.array(labels), cv=5)\n",
    "print(scores_svm_all)\n",
    "print('Accuracy for overall dataset: %.2f +/- %.2f'%(scores_svm_all.mean(),scores_svm_all.std()))"
   ]
  },
  {
   "cell_type": "markdown",
   "metadata": {},
   "source": [
    "#### 5.2 Overall Accuracy"
   ]
  },
  {
   "cell_type": "markdown",
   "metadata": {},
   "source": [
    " build a dataframe with true category name - val, predict catetory name - predict, and if predict correctly - correct  \n",
    " accuracy = num of correct predictions / total predictions"
   ]
  },
  {
   "cell_type": "code",
   "execution_count": 24,
   "metadata": {
    "collapsed": false
   },
   "outputs": [
    {
     "name": "stdout",
     "output_type": "stream",
     "text": [
      "Accuracy for overall dataset: 0.913\n"
     ]
    },
    {
     "data": {
      "text/html": [
       "<div>\n",
       "<table border=\"1\" class=\"dataframe\">\n",
       "  <thead>\n",
       "    <tr style=\"text-align: right;\">\n",
       "      <th></th>\n",
       "      <th>val</th>\n",
       "      <th>predict</th>\n",
       "      <th>correct</th>\n",
       "    </tr>\n",
       "  </thead>\n",
       "  <tbody>\n",
       "    <tr>\n",
       "      <th>0</th>\n",
       "      <td>Sandals</td>\n",
       "      <td>Slippers</td>\n",
       "      <td>0</td>\n",
       "    </tr>\n",
       "    <tr>\n",
       "      <th>1</th>\n",
       "      <td>Sandals</td>\n",
       "      <td>Sandals</td>\n",
       "      <td>1</td>\n",
       "    </tr>\n",
       "    <tr>\n",
       "      <th>2</th>\n",
       "      <td>Sandals</td>\n",
       "      <td>Sandals</td>\n",
       "      <td>1</td>\n",
       "    </tr>\n",
       "    <tr>\n",
       "      <th>3</th>\n",
       "      <td>Sandals</td>\n",
       "      <td>Sandals</td>\n",
       "      <td>1</td>\n",
       "    </tr>\n",
       "    <tr>\n",
       "      <th>4</th>\n",
       "      <td>Sandals</td>\n",
       "      <td>Sandals</td>\n",
       "      <td>1</td>\n",
       "    </tr>\n",
       "  </tbody>\n",
       "</table>\n",
       "</div>"
      ],
      "text/plain": [
       "       val   predict  correct\n",
       "0  Sandals  Slippers        0\n",
       "1  Sandals   Sandals        1\n",
       "2  Sandals   Sandals        1\n",
       "3  Sandals   Sandals        1\n",
       "4  Sandals   Sandals        1"
      ]
     },
     "execution_count": 24,
     "metadata": {},
     "output_type": "execute_result"
    }
   ],
   "source": [
    "df_svm_all = pd.DataFrame(data={'val':labels, 'predict':prediction_svm_all}, columns=['val', 'predict'])\n",
    "df_svm_all['correct'] = (df_svm_all.val == df_svm_all.predict).astype(int)\n",
    "accuracy_svm_all = sum(df_svm_all.correct)/df_svm_all.shape[0]\n",
    "print('Accuracy for overall dataset: %.3f'%accuracy_svm_all)\n",
    "df_svm_all.head()"
   ]
  },
  {
   "cell_type": "markdown",
   "metadata": {},
   "source": [
    "## C. Comparison of models"
   ]
  },
  {
   "cell_type": "code",
   "execution_count": 25,
   "metadata": {
    "collapsed": false
   },
   "outputs": [
    {
     "data": {
      "text/plain": [
       "<matplotlib.text.Text at 0x13595c278>"
      ]
     },
     "execution_count": 25,
     "metadata": {},
     "output_type": "execute_result"
    },
    {
     "data": {
      "image/png": "[encoded data removed]",
      "text/plain": [
       "<matplotlib.figure.Figure at 0x1358fee10>"
      ]
     },
     "metadata": {},
     "output_type": "display_data"
    }
   ],
   "source": [
    "scores = np.array([scores_tree_test,scores_tree_all,scores_svm_test,scores_svm_all])\n",
    "score_data = {'model': ['Tree']*2+['SVM']*2, 'data': ['test','full']*2, \n",
    "              'mean': scores.mean(axis=1), 'std': scores.std(axis=1)}\n",
    "accuracy_data = {'model': ['Tree']*2+['SVM']*2, 'data': ['test','full']*2, \n",
    "              'accuracy': [accuracy_tree_test,accuracy_tree_all,accuracy_svm_test,accuracy_svm_all]}    \n",
    "df_scores = pd.DataFrame(data=score_data,columns=['model','data','mean','std'])\n",
    "df_accuracy = pd.DataFrame(data=accuracy_data,columns=['model','data','accuracy'])\n",
    "\n",
    "# data to plot\n",
    "n_groups = 2\n",
    " \n",
    "# create plot\n",
    "fig, axes=plt.subplots(1,2, figsize=(12,4))\n",
    "index = np.arange(n_groups)\n",
    "bar_width = 0.3\n",
    " \n",
    "rects1 = axes[0].bar(index, df_scores['mean'][:2], bar_width,\n",
    "                 color='r',\n",
    "                 label='Tree',\n",
    "                 yerr=df_scores['std'][:2])\n",
    " \n",
    "rects2 = axes[0].bar(index + bar_width, df_scores['mean'][2:4], bar_width,\n",
    "                 color='y',\n",
    "                 label='SVM',\n",
    "                 yerr=df_scores['std'][2:4]) \n",
    "\n",
    "rects3 = axes[1].bar(index, df_accuracy['accuracy'][:2], bar_width,\n",
    "                 color='r',\n",
    "                 label='Tree')\n",
    " \n",
    "rects4 = axes[1].bar(index + bar_width, df_accuracy['accuracy'][2:4], bar_width,\n",
    "                 color='y',\n",
    "                 label='SVM')\n",
    "\n",
    "for i in range(2):\n",
    "    axes[i].set_xlabel('Dataset')\n",
    "    axes[i].set_xticks(index + bar_width)\n",
    "    axes[i].set_xticklabels(('test', 'full'))\n",
    "    axes[i].legend()\n",
    "axes[0].set_ylabel('Scores')\n",
    "axes[1].set_ylabel('Overall accuracy')\n",
    "axes[0].set_title('Cross Validation Score')\n",
    "axes[1].set_title('Overall Accuracy')"
   ]
  },
  {
   "cell_type": "markdown",
   "metadata": {},
   "source": [
    "## Part 4: Drilling Analysis"
   ]
  },
  {
   "cell_type": "markdown",
   "metadata": {},
   "source": [
    "Group the df_svm_test by category name, and then sort by accuracy of each category in descending order."
   ]
  },
  {
   "cell_type": "markdown",
   "metadata": {},
   "source": [
    "#### 4.1 Category comparison - with test data"
   ]
  },
  {
   "cell_type": "code",
   "execution_count": 26,
   "metadata": {
    "collapsed": false,
    "scrolled": false
   },
   "outputs": [
    {
     "data": {
      "text/html": [
       "<div>\n",
       "<table border=\"1\" class=\"dataframe\">\n",
       "  <thead>\n",
       "    <tr style=\"text-align: right;\">\n",
       "      <th></th>\n",
       "      <th>category</th>\n",
       "      <th>correct number</th>\n",
       "      <th>total number</th>\n",
       "      <th>accuracy</th>\n",
       "    </tr>\n",
       "  </thead>\n",
       "  <tbody>\n",
       "    <tr>\n",
       "      <th>0</th>\n",
       "      <td>Boots</td>\n",
       "      <td>129</td>\n",
       "      <td>133</td>\n",
       "      <td>0.969925</td>\n",
       "    </tr>\n",
       "    <tr>\n",
       "      <th>1</th>\n",
       "      <td>Heels</td>\n",
       "      <td>102</td>\n",
       "      <td>120</td>\n",
       "      <td>0.850000</td>\n",
       "    </tr>\n",
       "    <tr>\n",
       "      <th>2</th>\n",
       "      <td>Flats</td>\n",
       "      <td>108</td>\n",
       "      <td>137</td>\n",
       "      <td>0.788321</td>\n",
       "    </tr>\n",
       "    <tr>\n",
       "      <th>3</th>\n",
       "      <td>Sneakers &amp; Athletic Shoes</td>\n",
       "      <td>103</td>\n",
       "      <td>134</td>\n",
       "      <td>0.768657</td>\n",
       "    </tr>\n",
       "    <tr>\n",
       "      <th>4</th>\n",
       "      <td>Boat Shoes</td>\n",
       "      <td>51</td>\n",
       "      <td>68</td>\n",
       "      <td>0.750000</td>\n",
       "    </tr>\n",
       "    <tr>\n",
       "      <th>5</th>\n",
       "      <td>Clogs &amp; Mules</td>\n",
       "      <td>46</td>\n",
       "      <td>64</td>\n",
       "      <td>0.718750</td>\n",
       "    </tr>\n",
       "    <tr>\n",
       "      <th>6</th>\n",
       "      <td>Slippers</td>\n",
       "      <td>41</td>\n",
       "      <td>64</td>\n",
       "      <td>0.640625</td>\n",
       "    </tr>\n",
       "    <tr>\n",
       "      <th>7</th>\n",
       "      <td>Oxfords</td>\n",
       "      <td>42</td>\n",
       "      <td>69</td>\n",
       "      <td>0.608696</td>\n",
       "    </tr>\n",
       "    <tr>\n",
       "      <th>8</th>\n",
       "      <td>Sandals</td>\n",
       "      <td>80</td>\n",
       "      <td>134</td>\n",
       "      <td>0.597015</td>\n",
       "    </tr>\n",
       "    <tr>\n",
       "      <th>9</th>\n",
       "      <td>Loafers</td>\n",
       "      <td>29</td>\n",
       "      <td>67</td>\n",
       "      <td>0.432836</td>\n",
       "    </tr>\n",
       "  </tbody>\n",
       "</table>\n",
       "</div>"
      ],
      "text/plain": [
       "                    category  correct number  total number  accuracy\n",
       "0                      Boots             129           133  0.969925\n",
       "1                      Heels             102           120  0.850000\n",
       "2                      Flats             108           137  0.788321\n",
       "3  Sneakers & Athletic Shoes             103           134  0.768657\n",
       "4                 Boat Shoes              51            68  0.750000\n",
       "5              Clogs & Mules              46            64  0.718750\n",
       "6                   Slippers              41            64  0.640625\n",
       "7                    Oxfords              42            69  0.608696\n",
       "8                    Sandals              80           134  0.597015\n",
       "9                    Loafers              29            67  0.432836"
      ]
     },
     "execution_count": 26,
     "metadata": {},
     "output_type": "execute_result"
    }
   ],
   "source": [
    "cdf_svm_test = df_svm_test[['val','correct']].groupby('val').agg(['sum','count'])\n",
    "cdf_svm_test = cdf_svm_test['correct']\n",
    "cdf_svm_test['accuracy'] = cdf_svm_test['sum']/cdf_svm_test['count']\n",
    "cdf_svm_test = cdf_svm_test.sort_values(by='accuracy', ascending=False)\n",
    "cdf_svm_test.reset_index(level=0, inplace=True)\n",
    "cdf_svm_test.columns = ['category','correct number','total number','accuracy']\n",
    "cdf_svm_test"
   ]
  },
  {
   "cell_type": "markdown",
   "metadata": {},
   "source": [
    "#### 4.2 Category comparison - with full data"
   ]
  },
  {
   "cell_type": "code",
   "execution_count": 27,
   "metadata": {
    "collapsed": false,
    "scrolled": true
   },
   "outputs": [
    {
     "data": {
      "text/html": [
       "<div>\n",
       "<table border=\"1\" class=\"dataframe\">\n",
       "  <thead>\n",
       "    <tr style=\"text-align: right;\">\n",
       "      <th></th>\n",
       "      <th>category</th>\n",
       "      <th>correct number</th>\n",
       "      <th>total number</th>\n",
       "      <th>accuracy</th>\n",
       "    </tr>\n",
       "  </thead>\n",
       "  <tbody>\n",
       "    <tr>\n",
       "      <th>0</th>\n",
       "      <td>Boots</td>\n",
       "      <td>396</td>\n",
       "      <td>400</td>\n",
       "      <td>0.9900</td>\n",
       "    </tr>\n",
       "    <tr>\n",
       "      <th>1</th>\n",
       "      <td>Heels</td>\n",
       "      <td>382</td>\n",
       "      <td>400</td>\n",
       "      <td>0.9550</td>\n",
       "    </tr>\n",
       "    <tr>\n",
       "      <th>2</th>\n",
       "      <td>Flats</td>\n",
       "      <td>371</td>\n",
       "      <td>400</td>\n",
       "      <td>0.9275</td>\n",
       "    </tr>\n",
       "    <tr>\n",
       "      <th>3</th>\n",
       "      <td>Sneakers &amp; Athletic Shoes</td>\n",
       "      <td>369</td>\n",
       "      <td>400</td>\n",
       "      <td>0.9225</td>\n",
       "    </tr>\n",
       "    <tr>\n",
       "      <th>4</th>\n",
       "      <td>Boat Shoes</td>\n",
       "      <td>183</td>\n",
       "      <td>200</td>\n",
       "      <td>0.9150</td>\n",
       "    </tr>\n",
       "    <tr>\n",
       "      <th>5</th>\n",
       "      <td>Clogs &amp; Mules</td>\n",
       "      <td>182</td>\n",
       "      <td>200</td>\n",
       "      <td>0.9100</td>\n",
       "    </tr>\n",
       "    <tr>\n",
       "      <th>6</th>\n",
       "      <td>Slippers</td>\n",
       "      <td>177</td>\n",
       "      <td>200</td>\n",
       "      <td>0.8850</td>\n",
       "    </tr>\n",
       "    <tr>\n",
       "      <th>7</th>\n",
       "      <td>Oxfords</td>\n",
       "      <td>173</td>\n",
       "      <td>200</td>\n",
       "      <td>0.8650</td>\n",
       "    </tr>\n",
       "    <tr>\n",
       "      <th>8</th>\n",
       "      <td>Sandals</td>\n",
       "      <td>344</td>\n",
       "      <td>400</td>\n",
       "      <td>0.8600</td>\n",
       "    </tr>\n",
       "    <tr>\n",
       "      <th>9</th>\n",
       "      <td>Loafers</td>\n",
       "      <td>162</td>\n",
       "      <td>200</td>\n",
       "      <td>0.8100</td>\n",
       "    </tr>\n",
       "  </tbody>\n",
       "</table>\n",
       "</div>"
      ],
      "text/plain": [
       "                    category  correct number  total number  accuracy\n",
       "0                      Boots             396           400    0.9900\n",
       "1                      Heels             382           400    0.9550\n",
       "2                      Flats             371           400    0.9275\n",
       "3  Sneakers & Athletic Shoes             369           400    0.9225\n",
       "4                 Boat Shoes             183           200    0.9150\n",
       "5              Clogs & Mules             182           200    0.9100\n",
       "6                   Slippers             177           200    0.8850\n",
       "7                    Oxfords             173           200    0.8650\n",
       "8                    Sandals             344           400    0.8600\n",
       "9                    Loafers             162           200    0.8100"
      ]
     },
     "execution_count": 27,
     "metadata": {},
     "output_type": "execute_result"
    }
   ],
   "source": [
    "cdf_svm_all = df_svm_all[['val','correct']].groupby('val').agg(['sum','count'])\n",
    "cdf_svm_all = cdf_svm_all['correct']\n",
    "cdf_svm_all['accuracy'] = cdf_svm_all['sum']/cdf_svm_all['count']\n",
    "cdf_svm_all = cdf_svm_all.sort_values(by='accuracy', ascending=False)\n",
    "cdf_svm_all.reset_index(level=0, inplace=True)\n",
    "cdf_svm_all.columns = ['category','correct number','total number','accuracy']\n",
    "cdf_svm_all"
   ]
  },
  {
   "cell_type": "markdown",
   "metadata": {},
   "source": [
    "#### 4.3 Category comparison"
   ]
  },
  {
   "cell_type": "code",
   "execution_count": 29,
   "metadata": {
    "collapsed": false
   },
   "outputs": [
    {
     "data": {
      "text/plain": [
       "<matplotlib.text.Text at 0x135786940>"
      ]
     },
     "execution_count": 29,
     "metadata": {},
     "output_type": "execute_result"
    },
    {
     "data": {
      "image/png": "[encoded data removed]",
      "text/plain": [
       "<matplotlib.figure.Figure at 0x135853908>"
      ]
     },
     "metadata": {},
     "output_type": "display_data"
    }
   ],
   "source": [
    "df = pd.merge(cdf_svm_test[['category','accuracy']],cdf_svm_all[['category','accuracy']],on='category')\n",
    "\n",
    "# create plot\n",
    "fig, ax=plt.subplots(figsize=(20,4))\n",
    "index = np.arange(c_num)\n",
    "bar_width = 0.3\n",
    " \n",
    "rects1 = ax.bar(index, df.iloc[:,1], bar_width,\n",
    "                 color='r',\n",
    "                 label='test data')\n",
    " \n",
    "rects2 = ax.bar(index + bar_width, df.iloc[:,2], bar_width,\n",
    "                 color='y',\n",
    "                 label='full data')\n",
    "\n",
    "ax.set_xlabel('Category')\n",
    "ax.set_xticks(index + bar_width)\n",
    "ax.set_xticklabels(tuple(df['category']))\n",
    "ax.legend()\n",
    "ax.set_ylabel('Overall accuracy')\n",
    "ax.set_title('Overall accuracy by category')"
   ]
  },
  {
   "cell_type": "markdown",
   "metadata": {},
   "source": [
    "## Part 5: Conclusion"
   ]
  },
  {
   "cell_type": "markdown",
   "metadata": {},
   "source": [
    "Based on the cross validation score and the overall accuracy we calculated above, the SVM model predicts more accurately than classification tree with a maximum depth of 10. The result might change as we try different parameters to fit a better tree. Nonetheless, it will become less efficient for us to do this. In contrast, the SVM approach can fit a highly accurate model without lots of trials. Thereby, we choose this approach for further analysis.\n",
    "\n",
    "Moreover, among all the categories, prediction accuracies for Boots and Heels are apparently higher than those for other categories.\n",
    "One intuitive explaination for this finding is that the shapes of shoes in these two categories are easier to distinguish than those in other categories. For example, Slippers, Sandals, and Boat shoes are so similar with each other in both shape and color that we even cannot perfectly categorize them manually. No wonder the accuracies of these categories are lower."
   ]
  }
 ],
 "metadata": {
  "kernelspec": {
   "display_name": "Python [conda root]",
   "language": "python",
   "name": "conda-root-py"
  },
  "language_info": {
   "codemirror_mode": {
    "name": "ipython",
    "version": 3
   },
   "file_extension": ".py",
   "mimetype": "text/x-python",
   "name": "python",
   "nbconvert_exporter": "python",
   "pygments_lexer": "ipython3",
   "version": "3.5.2"
  }
 },
 "nbformat": 4,
 "nbformat_minor": 2
}
